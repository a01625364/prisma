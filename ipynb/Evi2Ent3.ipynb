{
 "cells": [
  {
   "cell_type": "code",
   "execution_count": 15,
   "id": "35efc9e6-5ed5-4ab9-959d-a56efdaee186",
   "metadata": {},
   "outputs": [],
   "source": [
    "# Equipo 3\n",
    "# Importación de librerias\n",
    "import mysql.connector\n",
    "import pandas as pd\n",
    "import numpy as np\n",
    "\n",
    "import make_pipeline from sklearn.pipeline \n",
    "import StandardScaler, OneHotEncoder from sklearn.preprocessing \n",
    "import SimpleImputer from sklearn.impute \n",
    "import make_column_transformer from sklearn.compose \n",
    "import train_test_split from sklearn.model_selection \n",
    "\n",
    "# Conexión al Data Warehouse \n",
    "mydb = mysql.connector.connect(\n",
    "  host = \"topline.dwh.suite.ghp.mx\",\n",
    "  user = \"tec_Aa1625364\",\n",
    "  password = \"7JFaz0BaayQY2xls\",\n",
    "  database = \"dwh\"\n",
    ")"
   ]
  },
  {
   "cell_type": "markdown",
   "id": "adff1118",
   "metadata": {},
   "source": [
    "1a. Selecciona tus variables dependientes (Y) e independientes (X)\n",
    "\n",
    "1b. Verifica bien de qué tipo son las variables.\n",
    "\n",
    "    Region [categorica] independiente\n",
    "    Ciudad [categorica] independiente\n",
    "    Estado [categorica] independiente\n",
    "\n",
    "    Chain [categorica] independiente\n",
    "    Brand [categorica] independiente\n",
    "\n",
    "    Occupancy [numérica] independiente/dependiente\n",
    "    Revenue [numérica] dependiente\n",
    "\n",
    "1c. Verifica si necesitan algún proceso de estandarización y balanceo.\n",
    "    StandardScaler()\n",
    "    RobustScaler()    \n",
    "    MinMaxScaler()"
   ]
  },
  {
   "cell_type": "code",
   "execution_count": null,
   "id": "e0d0b881",
   "metadata": {},
   "outputs": [],
   "source": [
    "num_attribs = [\"occupancy\", \"revenue\"]\n",
    "cat_attribs = [\"chain\", \"brand\", \"region\", \"city\", \"state\"]\n",
    "\n",
    "# Pipeline para las columnas numéricas\n",
    "basic_num_pipeline = make_pipeline(SimpleImputer(strategy='median'), StandardScaler())\n",
    "\n",
    "# Pipeline para las columnas categoricas\n",
    "basic_cat_pipeline = make_pipeline(SimpleImputer(strategy='most_frequent'), OneHotEncoder(handle_unknown='ignore'))\n",
    "\n",
    "# Pipeline de preprocesamiento integrado\n",
    "basic_preprocessing = make_column_transformer((basic_num_pipeline, num_attribs), (basic_cat_pipeline, cat_attribs))"
   ]
  },
  {
   "cell_type": "code",
   "execution_count": null,
   "id": "64de7c33",
   "metadata": {},
   "outputs": [],
   "source": [
    "# Preprocesamiento de datos\n",
    "descriptors = ['occupancy', 'revenue'] \n",
    "\n",
    "labels = ['???']\n",
    "\n",
    "X_train, X_test, y_train, y_test = train_test_split(housing[descriptors], housing[labels], train_size=0.8)"
   ]
  },
  {
   "cell_type": "code",
   "execution_count": null,
   "id": "dedad512-c0c7-4b8f-b03e-9876f6401c2c",
   "metadata": {},
   "outputs": [],
   "source": [
    "# Transformamos los datos\n",
    "housing_train_prep_array = basic_preprocessing.fit_transform(X_train)"
   ]
  },
  {
   "cell_type": "markdown",
   "id": "7cc73573",
   "metadata": {},
   "source": [
    "2a. A nivel anual:\n",
    "    2ai. Explora los datos para buscar patrones de estacionalidad\n",
    "    2aii. Explora los datos para buscar tendencias\n",
    "    2aiii. Explora los datos para buscar si hay presencia de ruido\n",
    "\n",
    "2b. A nivel mensual:\n",
    "    2bi. Explora los datos para buscar patrones de estacionalidad\n",
    "    2bii. Explora los datos para buscar tendencias\n",
    "    2biii. Explora los datos para buscar si hay presencia de ruido\n",
    "\n",
    "2c. A nivel semanal:\n",
    "    2ci. Explora los datos para buscar patrones de estacionalidad\n",
    "    2cii. Explora los datos para buscar tendencias\n",
    "    2ciii. Explora los datos para buscar si hay presencia de ruido\n",
    "\n",
    "2d. A nivel diario:\n",
    "    2di. Explora los datos para buscar patrones de estacionalidad\n",
    "    2dii. Explora los datos para buscar tendencias\n",
    "    2diii. Explora los datos para buscar si hay presencia de ruido"
   ]
  }
 ],
 "metadata": {
  "kernelspec": {
   "display_name": "Python 3 (ipykernel)",
   "language": "python",
   "name": "python3"
  },
  "language_info": {
   "codemirror_mode": {
    "name": "ipython",
    "version": 3
   },
   "file_extension": ".py",
   "mimetype": "text/x-python",
   "name": "python",
   "nbconvert_exporter": "python",
   "pygments_lexer": "ipython3",
   "version": "3.9.12"
  }
 },
 "nbformat": 4,
 "nbformat_minor": 5
}
